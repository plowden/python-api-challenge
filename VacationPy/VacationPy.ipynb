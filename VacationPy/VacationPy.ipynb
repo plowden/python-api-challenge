{
 "cells": [
  {
   "cell_type": "markdown",
   "metadata": {},
   "source": [
    "# VacationPy\n",
    "----\n",
    "\n",
    "#### Note\n",
    "* Instructions have been included for each segment. You do not have to follow them exactly, but they are included to help you think through the steps."
   ]
  },
  {
   "cell_type": "code",
   "execution_count": 115,
   "metadata": {},
   "outputs": [],
   "source": [
    "# Dependencies and Setup\n",
    "import matplotlib.pyplot as plt\n",
    "import pandas as pd\n",
    "import numpy as np\n",
    "import requests\n",
    "import gmaps\n",
    "import os\n",
    "import json\n",
    "\n",
    "# Import API key\n",
    "from env.api_keys import g_key\n"
   ]
  },
  {
   "cell_type": "markdown",
   "metadata": {},
   "source": [
    "### Store Part I results into DataFrame\n",
    "* Load the csv exported in Part I to a DataFrame"
   ]
  },
  {
   "cell_type": "code",
   "execution_count": 116,
   "metadata": {},
   "outputs": [
    {
     "data": {
      "text/html": [
       "<div>\n",
       "<style scoped>\n",
       "    .dataframe tbody tr th:only-of-type {\n",
       "        vertical-align: middle;\n",
       "    }\n",
       "\n",
       "    .dataframe tbody tr th {\n",
       "        vertical-align: top;\n",
       "    }\n",
       "\n",
       "    .dataframe thead th {\n",
       "        text-align: right;\n",
       "    }\n",
       "</style>\n",
       "<table border=\"1\" class=\"dataframe\">\n",
       "  <thead>\n",
       "    <tr style=\"text-align: right;\">\n",
       "      <th></th>\n",
       "      <th>City</th>\n",
       "      <th>Cloudiness</th>\n",
       "      <th>Country</th>\n",
       "      <th>Date</th>\n",
       "      <th>Humidity</th>\n",
       "      <th>Lat</th>\n",
       "      <th>Lng</th>\n",
       "      <th>Max Temp</th>\n",
       "      <th>Wind Speed</th>\n",
       "    </tr>\n",
       "  </thead>\n",
       "  <tbody>\n",
       "    <tr>\n",
       "      <th>0</th>\n",
       "      <td>haines junction</td>\n",
       "      <td>99</td>\n",
       "      <td>CA</td>\n",
       "      <td>1579743204</td>\n",
       "      <td>97</td>\n",
       "      <td>60.75</td>\n",
       "      <td>-137.51</td>\n",
       "      <td>6.76</td>\n",
       "      <td>4.14</td>\n",
       "    </tr>\n",
       "    <tr>\n",
       "      <th>1</th>\n",
       "      <td>ushuaia</td>\n",
       "      <td>75</td>\n",
       "      <td>AR</td>\n",
       "      <td>1579743204</td>\n",
       "      <td>71</td>\n",
       "      <td>-54.80</td>\n",
       "      <td>-68.30</td>\n",
       "      <td>50.00</td>\n",
       "      <td>9.17</td>\n",
       "    </tr>\n",
       "    <tr>\n",
       "      <th>2</th>\n",
       "      <td>constitucion</td>\n",
       "      <td>59</td>\n",
       "      <td>CL</td>\n",
       "      <td>1579743164</td>\n",
       "      <td>94</td>\n",
       "      <td>-35.33</td>\n",
       "      <td>-72.42</td>\n",
       "      <td>56.61</td>\n",
       "      <td>5.23</td>\n",
       "    </tr>\n",
       "    <tr>\n",
       "      <th>3</th>\n",
       "      <td>vaini</td>\n",
       "      <td>40</td>\n",
       "      <td>TO</td>\n",
       "      <td>1579743101</td>\n",
       "      <td>79</td>\n",
       "      <td>-21.20</td>\n",
       "      <td>-175.20</td>\n",
       "      <td>84.20</td>\n",
       "      <td>13.87</td>\n",
       "    </tr>\n",
       "    <tr>\n",
       "      <th>4</th>\n",
       "      <td>sidi ali</td>\n",
       "      <td>0</td>\n",
       "      <td>DZ</td>\n",
       "      <td>1579743204</td>\n",
       "      <td>78</td>\n",
       "      <td>36.10</td>\n",
       "      <td>0.42</td>\n",
       "      <td>47.03</td>\n",
       "      <td>5.19</td>\n",
       "    </tr>\n",
       "    <tr>\n",
       "      <th>...</th>\n",
       "      <td>...</td>\n",
       "      <td>...</td>\n",
       "      <td>...</td>\n",
       "      <td>...</td>\n",
       "      <td>...</td>\n",
       "      <td>...</td>\n",
       "      <td>...</td>\n",
       "      <td>...</td>\n",
       "      <td>...</td>\n",
       "    </tr>\n",
       "    <tr>\n",
       "      <th>537</th>\n",
       "      <td>portland</td>\n",
       "      <td>90</td>\n",
       "      <td>US</td>\n",
       "      <td>1579743739</td>\n",
       "      <td>87</td>\n",
       "      <td>45.52</td>\n",
       "      <td>-122.68</td>\n",
       "      <td>54.00</td>\n",
       "      <td>12.75</td>\n",
       "    </tr>\n",
       "    <tr>\n",
       "      <th>538</th>\n",
       "      <td>inhambane</td>\n",
       "      <td>68</td>\n",
       "      <td>MZ</td>\n",
       "      <td>1579743799</td>\n",
       "      <td>65</td>\n",
       "      <td>-23.86</td>\n",
       "      <td>35.38</td>\n",
       "      <td>76.35</td>\n",
       "      <td>7.09</td>\n",
       "    </tr>\n",
       "    <tr>\n",
       "      <th>539</th>\n",
       "      <td>san carlos de bariloche</td>\n",
       "      <td>20</td>\n",
       "      <td>AR</td>\n",
       "      <td>1579743859</td>\n",
       "      <td>40</td>\n",
       "      <td>-41.15</td>\n",
       "      <td>-71.31</td>\n",
       "      <td>69.80</td>\n",
       "      <td>10.29</td>\n",
       "    </tr>\n",
       "    <tr>\n",
       "      <th>540</th>\n",
       "      <td>praia</td>\n",
       "      <td>95</td>\n",
       "      <td>CV</td>\n",
       "      <td>1579743595</td>\n",
       "      <td>83</td>\n",
       "      <td>14.92</td>\n",
       "      <td>-23.51</td>\n",
       "      <td>69.80</td>\n",
       "      <td>13.87</td>\n",
       "    </tr>\n",
       "    <tr>\n",
       "      <th>541</th>\n",
       "      <td>jackson</td>\n",
       "      <td>90</td>\n",
       "      <td>US</td>\n",
       "      <td>1579743859</td>\n",
       "      <td>87</td>\n",
       "      <td>42.42</td>\n",
       "      <td>-122.83</td>\n",
       "      <td>46.99</td>\n",
       "      <td>1.19</td>\n",
       "    </tr>\n",
       "  </tbody>\n",
       "</table>\n",
       "<p>542 rows × 9 columns</p>\n",
       "</div>"
      ],
      "text/plain": [
       "                        City  Cloudiness Country        Date  Humidity    Lat  \\\n",
       "0            haines junction          99      CA  1579743204        97  60.75   \n",
       "1                    ushuaia          75      AR  1579743204        71 -54.80   \n",
       "2               constitucion          59      CL  1579743164        94 -35.33   \n",
       "3                      vaini          40      TO  1579743101        79 -21.20   \n",
       "4                   sidi ali           0      DZ  1579743204        78  36.10   \n",
       "..                       ...         ...     ...         ...       ...    ...   \n",
       "537                 portland          90      US  1579743739        87  45.52   \n",
       "538                inhambane          68      MZ  1579743799        65 -23.86   \n",
       "539  san carlos de bariloche          20      AR  1579743859        40 -41.15   \n",
       "540                    praia          95      CV  1579743595        83  14.92   \n",
       "541                  jackson          90      US  1579743859        87  42.42   \n",
       "\n",
       "        Lng  Max Temp  Wind Speed  \n",
       "0   -137.51      6.76        4.14  \n",
       "1    -68.30     50.00        9.17  \n",
       "2    -72.42     56.61        5.23  \n",
       "3   -175.20     84.20       13.87  \n",
       "4      0.42     47.03        5.19  \n",
       "..      ...       ...         ...  \n",
       "537 -122.68     54.00       12.75  \n",
       "538   35.38     76.35        7.09  \n",
       "539  -71.31     69.80       10.29  \n",
       "540  -23.51     69.80       13.87  \n",
       "541 -122.83     46.99        1.19  \n",
       "\n",
       "[542 rows x 9 columns]"
      ]
     },
     "execution_count": 116,
     "metadata": {},
     "output_type": "execute_result"
    }
   ],
   "source": [
    "# Store filepath in a variable\n",
    "input_file = \"../WeatherPy/output_data/cities.csv\"\n",
    "cities_df = pd.read_csv(input_file)\n",
    "cities_df"
   ]
  },
  {
   "cell_type": "markdown",
   "metadata": {},
   "source": [
    "### Humidity Heatmap\n",
    "* Configure gmaps.\n",
    "* Use the Lat and Lng as locations and Humidity as the weight.\n",
    "* Add Heatmap layer to map."
   ]
  },
  {
   "cell_type": "code",
   "execution_count": 117,
   "metadata": {},
   "outputs": [],
   "source": [
    "# Access maps with API key\n",
    "gmaps.configure(api_key=g_key)\n",
    "locations = cities_df[[\"Lat\", \"Lng\"]]\n",
    "rating = cities_df[\"Humidity\"].astype(float)"
   ]
  },
  {
   "cell_type": "code",
   "execution_count": 119,
   "metadata": {},
   "outputs": [
    {
     "data": {
      "application/vnd.jupyter.widget-view+json": {
       "model_id": "e48ae445bacc4050a217a98e9161fe53",
       "version_major": 2,
       "version_minor": 0
      },
      "text/plain": [
       "Figure(layout=FigureLayout(height='420px'))"
      ]
     },
     "metadata": {},
     "output_type": "display_data"
    }
   ],
   "source": [
    "# Plot Heatmap\n",
    "fig = gmaps.figure()\n",
    "\n",
    "# Create heat layer\n",
    "heat_layer = gmaps.heatmap_layer(locations, weights=rating, \n",
    "                                 dissipating=False, max_intensity=100,\n",
    "                                 point_radius=3)\n",
    "\n",
    "# Add layer\n",
    "fig.add_layer(heat_layer)\n",
    "\n",
    "# Display figure\n",
    "fig"
   ]
  },
  {
   "cell_type": "markdown",
   "metadata": {},
   "source": [
    "### Create new DataFrame fitting weather criteria\n",
    "* Narrow down the cities to fit weather conditions.\n",
    "* Drop any rows will null values."
   ]
  },
  {
   "cell_type": "code",
   "execution_count": 120,
   "metadata": {},
   "outputs": [],
   "source": [
    "df = cities_df.copy()\n",
    "df = df.loc[(df['Max Temp'] < 80) & (df['Max Temp'] > 70) & (df['Wind Speed'] < 20) & (df['Cloudiness'] < 10)]"
   ]
  },
  {
   "cell_type": "markdown",
   "metadata": {},
   "source": [
    "### Hotel Map\n",
    "* Store into variable named `hotel_df`.\n",
    "* Add a \"Hotel Name\" column to the DataFrame.\n",
    "* Set parameters to search for hotels with 5000 meters.\n",
    "* Hit the Google Places API for each city's coordinates.\n",
    "* Store the first Hotel result into the DataFrame.\n",
    "* Plot markers on top of the heatmap."
   ]
  },
  {
   "cell_type": "code",
   "execution_count": 121,
   "metadata": {},
   "outputs": [],
   "source": [
    "hotel_df = df.copy()\n",
    "hotel_df['Hotel Name'] = \"\""
   ]
  },
  {
   "cell_type": "code",
   "execution_count": 122,
   "metadata": {},
   "outputs": [],
   "source": [
    "base_url = \"https://maps.googleapis.com/maps/api/place/nearbysearch/json\""
   ]
  },
  {
   "cell_type": "code",
   "execution_count": 123,
   "metadata": {},
   "outputs": [
    {
     "name": "stdout",
     "output_type": "stream",
     "text": [
      "Retrieving Results for Index 17: kapaa.\n",
      "Closest hotel is Courtyard by Marriott Kaua'i at Coconut Beach.\n",
      "------------\n",
      "Retrieving Results for Index 56: okakarara.\n",
      "Missing field/result... skipping.\n",
      "------------\n",
      "Retrieving Results for Index 83: carnarvon.\n",
      "Closest hotel is Hospitality Carnarvon.\n",
      "------------\n",
      "Retrieving Results for Index 142: vao.\n",
      "Closest hotel is Hotel Kou-Bugny.\n",
      "------------\n",
      "Retrieving Results for Index 216: tandil.\n",
      "Closest hotel is Ruphay.\n",
      "------------\n",
      "Retrieving Results for Index 219: machali.\n",
      "Closest hotel is OP Hotels.\n",
      "------------\n",
      "Retrieving Results for Index 380: goya.\n",
      "Closest hotel is Condado Hotel Casino.\n",
      "------------\n",
      "Retrieving Results for Index 392: sefton.\n",
      "Closest hotel is Terrace Lodge.\n",
      "------------\n",
      "Retrieving Results for Index 414: rio grande.\n",
      "Closest hotel is Laghetto Viverone Rio Grande.\n",
      "------------\n",
      "Retrieving Results for Index 451: kontagora.\n",
      "Closest hotel is City Gate Inn.\n",
      "------------\n",
      "Retrieving Results for Index 466: poum.\n",
      "Missing field/result... skipping.\n",
      "------------\n",
      "Retrieving Results for Index 486: celestun.\n",
      "Closest hotel is Ria Celestun.\n",
      "------------\n",
      "Retrieving Results for Index 502: moron.\n",
      "Closest hotel is Hotel Cabildo.\n",
      "------------\n",
      "Retrieving Results for Index 511: tiling.\n",
      "Missing field/result... skipping.\n",
      "------------\n"
     ]
    }
   ],
   "source": [
    "# use iterrows to iterate through pandas dataframe\n",
    "for index, row in hotel_df.iterrows():\n",
    "\n",
    "    # get latitude and longitude\n",
    "    lat = row['Lat']\n",
    "    lng = row['Lng']\n",
    "    city = row['City']\n",
    "\n",
    "    # set up params dict\n",
    "    params = {\n",
    "    \"location\": f\"{lat},{lng}\",\n",
    "    \"radius\": 5000,\n",
    "    \"keyword\": \"hotel\",\n",
    "    \"key\": g_key,\n",
    "}\n",
    "\n",
    "    # assemble url and make API request\n",
    "    print(f\"Retrieving Results for Index {index}: {city}.\")\n",
    "    response = requests.get(base_url, params=params).json()\n",
    "    \n",
    "    # extract results\n",
    "    results = response['results']\n",
    "    \n",
    "    try:\n",
    "        print(f\"Closest hotel is {results[0]['name']}.\")\n",
    "        hotel_df.loc[index, 'Hotel Name'] = results[0]['name']\n",
    "    except (KeyError, IndexError):\n",
    "        print(\"Missing field/result... skipping.\")\n",
    "        \n",
    "    print(\"------------\")\n"
   ]
  },
  {
   "cell_type": "code",
   "execution_count": 127,
   "metadata": {},
   "outputs": [],
   "source": [
    "#df = hotel_df.dropna(how='any', inplace = True)\n",
    "hotel_df = hotel_df.loc[hotel_df[\"Hotel Name\"] != \"\"]"
   ]
  },
  {
   "cell_type": "code",
   "execution_count": 128,
   "metadata": {},
   "outputs": [],
   "source": [
    "# NOTE: Do not change any of the code in this cell\n",
    "\n",
    "# Using the template add the hotel marks to the heatmap\n",
    "info_box_template = \"\"\"\n",
    "<dl>\n",
    "<dt>Name</dt><dd>{Hotel Name}</dd>\n",
    "<dt>City</dt><dd>{City}</dd>\n",
    "<dt>Country</dt><dd>{Country}</dd>\n",
    "</dl>\n",
    "\"\"\"\n",
    "# Store the DataFrame Row\n",
    "# NOTE: be sure to update with your DataFrame name\n",
    "hotel_info = [info_box_template.format(**row) for index, row in hotel_df.iterrows()]\n",
    "locations = hotel_df[[\"Lat\", \"Lng\"]]"
   ]
  },
  {
   "cell_type": "code",
   "execution_count": 126,
   "metadata": {},
   "outputs": [
    {
     "data": {
      "application/vnd.jupyter.widget-view+json": {
       "model_id": "e48ae445bacc4050a217a98e9161fe53",
       "version_major": 2,
       "version_minor": 0
      },
      "text/plain": [
       "Figure(layout=FigureLayout(height='420px'))"
      ]
     },
     "metadata": {},
     "output_type": "display_data"
    }
   ],
   "source": [
    "# Add marker layer ontop of heat map\n",
    "# Assign the marker layer to a variable\n",
    "markers = gmaps.marker_layer(locations, info_box_content=hotel_info)\n",
    "\n",
    "# Add the layer to the map\n",
    "fig.add_layer(markers)\n",
    "\n",
    "# Display Map\n",
    "fig"
   ]
  },
  {
   "cell_type": "code",
   "execution_count": null,
   "metadata": {},
   "outputs": [],
   "source": []
  }
 ],
 "metadata": {
  "kernelspec": {
   "display_name": "Python 3",
   "language": "python",
   "name": "python3"
  },
  "language_info": {
   "codemirror_mode": {
    "name": "ipython",
    "version": 3
   },
   "file_extension": ".py",
   "mimetype": "text/x-python",
   "name": "python",
   "nbconvert_exporter": "python",
   "pygments_lexer": "ipython3",
   "version": "3.6.9"
  },
  "latex_envs": {
   "LaTeX_envs_menu_present": true,
   "autoclose": false,
   "autocomplete": true,
   "bibliofile": "biblio.bib",
   "cite_by": "apalike",
   "current_citInitial": 1,
   "eqLabelWithNumbers": true,
   "eqNumInitial": 1,
   "hotkeys": {
    "equation": "Ctrl-E",
    "itemize": "Ctrl-I"
   },
   "labels_anchors": false,
   "latex_user_defs": false,
   "report_style_numbering": false,
   "user_envs_cfg": false
  }
 },
 "nbformat": 4,
 "nbformat_minor": 2
}
